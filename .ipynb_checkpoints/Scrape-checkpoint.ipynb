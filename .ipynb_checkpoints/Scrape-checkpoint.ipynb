{
 "cells": [
  {
   "cell_type": "code",
   "execution_count": 1,
   "metadata": {},
   "outputs": [],
   "source": [
    "import pandas as pd\n",
    "import numpy as np\n",
    "\n",
    "from IPython.display import clear_output, display, HTML\n",
    "import time\n",
    "import random\n",
    "from itertools import count\n",
    "\n",
    "import pickle\n",
    "\n",
    "# import scarper components\n",
    "from bs4 import BeautifulSoup\n",
    "import requests\n",
    "from fake_useragent import UserAgent\n",
    "\n",
    "from pymongo import MongoClient\n",
    "\n",
    "import re"
   ]
  },
  {
   "cell_type": "code",
   "execution_count": 2,
   "metadata": {},
   "outputs": [],
   "source": [
    "db = MongoClient(\"mongodb://@52.53.234.224\", 27017)"
   ]
  },
  {
   "cell_type": "code",
   "execution_count": 14,
   "metadata": {},
   "outputs": [],
   "source": [
    "col = pd.DataFrame(db.project.reviews.find())"
   ]
  },
  {
   "cell_type": "code",
   "execution_count": 33,
   "metadata": {},
   "outputs": [
    {
     "data": {
      "text/html": [
       "<div>\n",
       "<style scoped>\n",
       "    .dataframe tbody tr th:only-of-type {\n",
       "        vertical-align: middle;\n",
       "    }\n",
       "\n",
       "    .dataframe tbody tr th {\n",
       "        vertical-align: top;\n",
       "    }\n",
       "\n",
       "    .dataframe thead th {\n",
       "        text-align: right;\n",
       "    }\n",
       "</style>\n",
       "<table border=\"1\" class=\"dataframe\">\n",
       "  <thead>\n",
       "    <tr style=\"text-align: right;\">\n",
       "      <th></th>\n",
       "      <th>ASIN</th>\n",
       "      <th>_id</th>\n",
       "      <th>content</th>\n",
       "      <th>pg_num</th>\n",
       "      <th>review_date</th>\n",
       "      <th>review_id</th>\n",
       "      <th>review_score</th>\n",
       "      <th>reviewer_name</th>\n",
       "      <th>title</th>\n",
       "      <th>vine_status</th>\n",
       "    </tr>\n",
       "  </thead>\n",
       "  <tbody>\n",
       "    <tr>\n",
       "      <th>8780</th>\n",
       "      <td>B06XWZWYVP</td>\n",
       "      <td>5d53c329607e5e5c72191c09</td>\n",
       "      <td>Popped it in to my Nintendo Switch and it work...</td>\n",
       "      <td>379</td>\n",
       "      <td>December 12, 2018</td>\n",
       "      <td>R3OM57OJQAVBUK</td>\n",
       "      <td>5.0</td>\n",
       "      <td>Alex Smith</td>\n",
       "      <td>So far so good!</td>\n",
       "      <td>False</td>\n",
       "    </tr>\n",
       "    <tr>\n",
       "      <th>9577</th>\n",
       "      <td>B06XWZWYVP</td>\n",
       "      <td>5d53c4a3607e5e5c72191f26</td>\n",
       "      <td>So far so good. I needed extra storage for my ...</td>\n",
       "      <td>459</td>\n",
       "      <td>October 4, 2018</td>\n",
       "      <td>R275GNW80BWHRO</td>\n",
       "      <td>5.0</td>\n",
       "      <td>Brandi Dronet</td>\n",
       "      <td>So far so good!</td>\n",
       "      <td>False</td>\n",
       "    </tr>\n",
       "    <tr>\n",
       "      <th>15224</th>\n",
       "      <td>B072HRDM55</td>\n",
       "      <td>5d53cf06607e5e5c72193536</td>\n",
       "      <td>Have had for about 6months and works great!</td>\n",
       "      <td>24</td>\n",
       "      <td>July 2, 2019</td>\n",
       "      <td>RI8JC668MDRUO</td>\n",
       "      <td>5.0</td>\n",
       "      <td>Jon Daley</td>\n",
       "      <td>So far so good!</td>\n",
       "      <td>False</td>\n",
       "    </tr>\n",
       "    <tr>\n",
       "      <th>18833</th>\n",
       "      <td>B073JWXGNT</td>\n",
       "      <td>5d53d58b607e5e5c7219434f</td>\n",
       "      <td>It’s working fine so far.</td>\n",
       "      <td>230</td>\n",
       "      <td>December 10, 2018</td>\n",
       "      <td>R20DYV3XKOCJHQ</td>\n",
       "      <td>5.0</td>\n",
       "      <td>Kao T</td>\n",
       "      <td>So far so good!</td>\n",
       "      <td>False</td>\n",
       "    </tr>\n",
       "    <tr>\n",
       "      <th>24875</th>\n",
       "      <td>B073JYC4XM</td>\n",
       "      <td>5d542eb2d2a1c6f67e7bd2dc</td>\n",
       "      <td>No problems so far</td>\n",
       "      <td>197</td>\n",
       "      <td>January 22, 2019</td>\n",
       "      <td>R25TFX9YZ2KLZ3</td>\n",
       "      <td>5.0</td>\n",
       "      <td>Johnson</td>\n",
       "      <td>So far so good!</td>\n",
       "      <td>False</td>\n",
       "    </tr>\n",
       "    <tr>\n",
       "      <th>25080</th>\n",
       "      <td>B073JYC4XM</td>\n",
       "      <td>5d542f11d2a1c6f67e7bd3a9</td>\n",
       "      <td>We love the brand so we decide to get this one...</td>\n",
       "      <td>217</td>\n",
       "      <td>January 7, 2019</td>\n",
       "      <td>R2QYINQ2C9W76B</td>\n",
       "      <td>5.0</td>\n",
       "      <td>Martha cortes</td>\n",
       "      <td>So far so good!</td>\n",
       "      <td>False</td>\n",
       "    </tr>\n",
       "    <tr>\n",
       "      <th>33985</th>\n",
       "      <td>B074RNRM2B</td>\n",
       "      <td>5d544c4f6214cec1254b3d8a</td>\n",
       "      <td>I had  a 200gb Sandisk card in my LG V10 and h...</td>\n",
       "      <td>110</td>\n",
       "      <td>July 22, 2018</td>\n",
       "      <td>R2U0JXX55ENAUK</td>\n",
       "      <td>5.0</td>\n",
       "      <td>LoafTheTabby</td>\n",
       "      <td>So far so good!</td>\n",
       "      <td>False</td>\n",
       "    </tr>\n",
       "  </tbody>\n",
       "</table>\n",
       "</div>"
      ],
      "text/plain": [
       "             ASIN                       _id  \\\n",
       "8780   B06XWZWYVP  5d53c329607e5e5c72191c09   \n",
       "9577   B06XWZWYVP  5d53c4a3607e5e5c72191f26   \n",
       "15224  B072HRDM55  5d53cf06607e5e5c72193536   \n",
       "18833  B073JWXGNT  5d53d58b607e5e5c7219434f   \n",
       "24875  B073JYC4XM  5d542eb2d2a1c6f67e7bd2dc   \n",
       "25080  B073JYC4XM  5d542f11d2a1c6f67e7bd3a9   \n",
       "33985  B074RNRM2B  5d544c4f6214cec1254b3d8a   \n",
       "\n",
       "                                                 content  pg_num  \\\n",
       "8780   Popped it in to my Nintendo Switch and it work...     379   \n",
       "9577   So far so good. I needed extra storage for my ...     459   \n",
       "15224        Have had for about 6months and works great!      24   \n",
       "18833                          It’s working fine so far.     230   \n",
       "24875                                 No problems so far     197   \n",
       "25080  We love the brand so we decide to get this one...     217   \n",
       "33985  I had  a 200gb Sandisk card in my LG V10 and h...     110   \n",
       "\n",
       "             review_date       review_id  review_score  reviewer_name  \\\n",
       "8780   December 12, 2018  R3OM57OJQAVBUK           5.0     Alex Smith   \n",
       "9577     October 4, 2018  R275GNW80BWHRO           5.0  Brandi Dronet   \n",
       "15224       July 2, 2019   RI8JC668MDRUO           5.0      Jon Daley   \n",
       "18833  December 10, 2018  R20DYV3XKOCJHQ           5.0          Kao T   \n",
       "24875   January 22, 2019  R25TFX9YZ2KLZ3           5.0        Johnson   \n",
       "25080    January 7, 2019  R2QYINQ2C9W76B           5.0  Martha cortes   \n",
       "33985      July 22, 2018  R2U0JXX55ENAUK           5.0   LoafTheTabby   \n",
       "\n",
       "                 title  vine_status  \n",
       "8780   So far so good!        False  \n",
       "9577   So far so good!        False  \n",
       "15224  So far so good!        False  \n",
       "18833  So far so good!        False  \n",
       "24875  So far so good!        False  \n",
       "25080  So far so good!        False  \n",
       "33985  So far so good!        False  "
      ]
     },
     "execution_count": 33,
     "metadata": {},
     "output_type": "execute_result"
    }
   ],
   "source": [
    "col[col['title'] == 'So far so good!']"
   ]
  },
  {
   "cell_type": "code",
   "execution_count": 8,
   "metadata": {},
   "outputs": [
    {
     "data": {
      "text/plain": [
       "2001"
      ]
     },
     "execution_count": 8,
     "metadata": {},
     "output_type": "execute_result"
    }
   ],
   "source": [
    "len(col)"
   ]
  },
  {
   "cell_type": "markdown",
   "metadata": {},
   "source": [
    "## Creating scraper"
   ]
  },
  {
   "cell_type": "code",
   "execution_count": 13,
   "metadata": {},
   "outputs": [],
   "source": [
    "# Declaring UserAgent\n",
    "agent = {'User-Agent': UserAgent().chrome}\n",
    "\n",
    "# Obtaining Legitimate Cookie\n",
    "url = 'https://www.google.com/'\n",
    "session = requests.Session()\n",
    "cookie = session.get(url, headers = agent).cookies.get_dict()\n",
    "\n",
    "# proxyDict = { \n",
    "#           \"http\": '18.144.29.167:8888', \n",
    "#           \"https\": '18.144.29.167:8888'\n",
    "#         }\n",
    "\n",
    "request = lambda link: requests.Session().get(\n",
    "                                    link,\n",
    "                                    headers = agent,\n",
    "                                    cookies = cookie\n",
    "#                                     ,proxies= proxyDict\n",
    "                                )"
   ]
  },
  {
   "cell_type": "code",
   "execution_count": 14,
   "metadata": {},
   "outputs": [],
   "source": [
    "def review_scrape(ASIN, pg_num):\n",
    "    # Scrape Reviews\n",
    "    url = f'https://www.amazon.com/product-reviews/{ASIN}/ref=cm_cr_getr_d_paging_btm_next_{pg_num}?sortBy=recent&pageNumber={pg_num}&formatType=current_format'\n",
    "\n",
    "    soup = BeautifulSoup(request(url).text)\n",
    "    \n",
    "    # Stripping review_id, title and content\n",
    "\n",
    "    content = [ i.get_text(strip=True) for i in soup.find_all(attrs={'a-size-base review-text review-text-content'}) ]\n",
    "\n",
    "    _title_and_reviewid = soup.find_all(attrs={'a-size-base a-link-normal review-title a-color-base review-title-content a-text-bold'})\n",
    "\n",
    "    \n",
    "    get_vine_status = lambda x: (\n",
    "                                    soup.find_all(attrs={'id': f'customer_review-{x}'})[0]\n",
    "                                    .find(attrs={'a-link-normal'})\n",
    "                                    .get_text() == 'VINE VOICE'\n",
    "                                )\n",
    "\n",
    "    get_review_score = lambda x: float(\n",
    "                                            soup.find_all(attrs={'id': f'customer_review-{x}'})[0]\n",
    "                                            .find(attrs={'a-icon-alt'})\n",
    "                                            .get_text()\n",
    "                                            .split(' ')[0]\n",
    "                                      )\n",
    "\n",
    "    get_reviewer_name = lambda x: (\n",
    "                                    soup.find_all(attrs={'id': f'customer_review-{x}'})[0]\n",
    "                                    .find(attrs={'a-profile-name'})\n",
    "                                    .get_text()\n",
    "                                    )\n",
    "\n",
    "\n",
    "    title = [ i.span.get_text() for i in _title_and_reviewid ]\n",
    "    review_id = [ i.attrs['href'].split('/')[3] for i in _title_and_reviewid ]\n",
    "    review_date = [ i.get_text() for i in soup.find_all(attrs={'review-date'})[2:] ]\n",
    "    vine_status = [ get_vine_status(i) for i in review_id ]\n",
    "    reviewer_name = [ get_reviewer_name(i) for i in review_id ]\n",
    "    review_score = [ get_review_score(i) for i in review_id ]\n",
    "\n",
    "    _ = pd.DataFrame(data= zip(review_id, review_date, review_score, vine_status, reviewer_name, title, content), columns=['review_id', 'review_date', 'review_score', 'vine_status', 'reviewer_name', 'title', 'content'])\n",
    "\n",
    "    _['ASIN'] = ASIN\n",
    "    _['pg_num'] = pg_num\n",
    "\n",
    "    return _.reindex(columns=['ASIN', 'pg_num','review_id', 'review_score', 'vine_status', 'reviewer_name', 'review_date', 'title', 'content'])"
   ]
  },
  {
   "cell_type": "code",
   "execution_count": 15,
   "metadata": {
    "scrolled": true
   },
   "outputs": [
    {
     "data": {
      "text/html": [
       "<div>\n",
       "<style scoped>\n",
       "    .dataframe tbody tr th:only-of-type {\n",
       "        vertical-align: middle;\n",
       "    }\n",
       "\n",
       "    .dataframe tbody tr th {\n",
       "        vertical-align: top;\n",
       "    }\n",
       "\n",
       "    .dataframe thead th {\n",
       "        text-align: right;\n",
       "    }\n",
       "</style>\n",
       "<table border=\"1\" class=\"dataframe\">\n",
       "  <thead>\n",
       "    <tr style=\"text-align: right;\">\n",
       "      <th></th>\n",
       "      <th>ASIN</th>\n",
       "      <th>pg_num</th>\n",
       "      <th>review_id</th>\n",
       "      <th>review_score</th>\n",
       "      <th>vine_status</th>\n",
       "      <th>reviewer_name</th>\n",
       "      <th>review_date</th>\n",
       "      <th>title</th>\n",
       "      <th>content</th>\n",
       "    </tr>\n",
       "  </thead>\n",
       "  <tbody>\n",
       "    <tr>\n",
       "      <th>0</th>\n",
       "      <td>B073JWXGNT</td>\n",
       "      <td>17</td>\n",
       "      <td>R20SINV1YASC8B</td>\n",
       "      <td>5.0</td>\n",
       "      <td>False</td>\n",
       "      <td>Jim Coble</td>\n",
       "      <td>July 31, 2019</td>\n",
       "      <td>Works great</td>\n",
       "      <td>Works great</td>\n",
       "    </tr>\n",
       "  </tbody>\n",
       "</table>\n",
       "</div>"
      ],
      "text/plain": [
       "         ASIN  pg_num       review_id  review_score  vine_status  \\\n",
       "0  B073JWXGNT      17  R20SINV1YASC8B           5.0        False   \n",
       "\n",
       "  reviewer_name    review_date        title      content  \n",
       "0     Jim Coble  July 31, 2019  Works great  Works great  "
      ]
     },
     "execution_count": 15,
     "metadata": {},
     "output_type": "execute_result"
    }
   ],
   "source": [
    "review_scrape('B073JWXGNT', 17).head(1)"
   ]
  },
  {
   "cell_type": "markdown",
   "metadata": {},
   "source": [
    "## Establish targets SKUs"
   ]
  },
  {
   "cell_type": "code",
   "execution_count": null,
   "metadata": {},
   "outputs": [],
   "source": [
    "col = []\n",
    "\n",
    "url = 'https://www.amazon.com/Samsung-MicroSDXC-Adapter-MB-ME128GA-AM/dp/B06XWZWYVP/ref=sr_1_5?keywords=sandisk%2Bmicro%2Bsd&qid=1565739330&s=gateway&sr=8-5&th=1'\n",
    "\n",
    "soup = BeautifulSoup(request(url).text)\n",
    "\n",
    "_ = []\n",
    "\n",
    "for i in soup.find_all(attrs={'a-unordered-list a-nostyle a-button-list a-declarative a-button-toggle-group a-horizontal a-spacing-top-micro swatches swatchesSquare'}):\n",
    "    for x in i.find_all('li'):\n",
    "        _.append(\n",
    "            [x['data-defaultasin'], x.find(attrs={'a-size-base'}).get_text(), 'Samsung']\n",
    "        )\n",
    "        \n",
    "\n",
    "col = [(a, int(re.sub(\"\\D\",\"\",b)), c) for (a, b, c) in _[0:5]]\n",
    "\n",
    "url = 'https://www.amazon.com/Sandisk-Ultra-Micro-UHS-I-Adapter/dp/B073K14CVB/ref=sxin_4_sxwds-bovbs?keywords=sandisk+micro+sd&pd_rd_i=B073K14CVB&pd_rd_r=1892a852-fc86-4c96-8c4f-c2d75ecb6b6e&pd_rd_w=9an3s&pd_rd_wg=GirQt&pf_rd_p=b866bc3b-cfe5-45c1-897c-a8525a3335d9&pf_rd_r=42K1ZJJN26BSQQ72YKCE&qid=1565741086&s=gateway'\n",
    "\n",
    "soup = BeautifulSoup(request(url).text)\n",
    "\n",
    "for i in soup.find_all(attrs={'a-unordered-list a-nostyle a-button-list a-declarative a-button-toggle-group a-horizontal a-spacing-top-micro swatches swatchesSquare'}):\n",
    "    for x in i.find_all('li'):\n",
    "        col.append([x['data-defaultasin'], int(re.sub(\"\\D\",\"\", x.find(attrs={'a-size-base'}).get_text())), 'SanDisk'])"
   ]
  },
  {
   "cell_type": "code",
   "execution_count": null,
   "metadata": {
    "scrolled": true
   },
   "outputs": [],
   "source": [
    "col"
   ]
  },
  {
   "cell_type": "markdown",
   "metadata": {},
   "source": [
    "Creating 'targets' DF"
   ]
  },
  {
   "cell_type": "code",
   "execution_count": null,
   "metadata": {},
   "outputs": [],
   "source": [
    "targets = pd.DataFrame(data=(col), columns=['ASIN', 'cap', 'brand'])"
   ]
  },
  {
   "cell_type": "code",
   "execution_count": null,
   "metadata": {},
   "outputs": [],
   "source": [
    "try:\n",
    "    db.project.targets.insert_many(targets.to_dict('record'), ordered=False)\n",
    "except:\n",
    "    pass"
   ]
  },
  {
   "cell_type": "code",
   "execution_count": null,
   "metadata": {},
   "outputs": [],
   "source": [
    "len(list(db.project.targets.find()))"
   ]
  },
  {
   "cell_type": "markdown",
   "metadata": {},
   "source": [
    "### To scrape review"
   ]
  },
  {
   "cell_type": "markdown",
   "metadata": {},
   "source": [
    "Creating an empty dataframe"
   ]
  },
  {
   "cell_type": "code",
   "execution_count": 9,
   "metadata": {},
   "outputs": [],
   "source": [
    "df = pd.DataFrame(columns = ['ASIN', 'pg_num','review_id', 'review_score', 'vine_status', 'reviewer_name', 'review_date', 'title', 'content'])"
   ]
  },
  {
   "cell_type": "code",
   "execution_count": null,
   "metadata": {
    "scrolled": true
   },
   "outputs": [],
   "source": [
    "to_scrape = db.project.targets.distinct('ASIN')\n",
    "\n",
    "to_scrape"
   ]
  },
  {
   "cell_type": "code",
   "execution_count": 10,
   "metadata": {},
   "outputs": [],
   "source": [
    "to_scrape = [ 'B073JYC4XM','B073JYVKNX','B073K14CVB','B074RNRM2B','B0758NHWS8','B07MKSGZM6','B07SC7BZHR']\n",
    "to_scrape.reverse()"
   ]
  },
  {
   "cell_type": "code",
   "execution_count": 17,
   "metadata": {},
   "outputs": [
    {
     "name": "stdout",
     "output_type": "stream",
     "text": [
      "---CURRENT---\n",
      "B07SC7BZHR\n",
      "page: 1 \n",
      "rand: 5.737633904219872\n",
      "---SCRAPED---\n",
      "35667\n"
     ]
    },
    {
     "name": "stderr",
     "output_type": "stream",
     "text": [
      "/Users/panherbert/anaconda3/lib/python3.7/site-packages/ipykernel_launcher.py:15: DeprecationWarning: count is deprecated. Use estimated_document_count or count_documents instead. Please note that $where must be replaced by $expr, $near must be replaced by $geoWithin with $center, and $nearSphere must be replaced by $geoWithin with $centerSphere\n",
      "  from ipykernel import kernelapp as app\n"
     ]
    },
    {
     "data": {
      "text/html": [
       "<div>\n",
       "<style scoped>\n",
       "    .dataframe tbody tr th:only-of-type {\n",
       "        vertical-align: middle;\n",
       "    }\n",
       "\n",
       "    .dataframe tbody tr th {\n",
       "        vertical-align: top;\n",
       "    }\n",
       "\n",
       "    .dataframe thead th {\n",
       "        text-align: right;\n",
       "    }\n",
       "</style>\n",
       "<table border=\"1\" class=\"dataframe\">\n",
       "  <thead>\n",
       "    <tr style=\"text-align: right;\">\n",
       "      <th></th>\n",
       "      <th>review_id</th>\n",
       "    </tr>\n",
       "    <tr>\n",
       "      <th>ASIN</th>\n",
       "      <th></th>\n",
       "    </tr>\n",
       "  </thead>\n",
       "  <tbody>\n",
       "    <tr>\n",
       "      <th>B07MKSGZM6</th>\n",
       "      <td>100</td>\n",
       "    </tr>\n",
       "    <tr>\n",
       "      <th>B07SC7BZHR</th>\n",
       "      <td>6</td>\n",
       "    </tr>\n",
       "  </tbody>\n",
       "</table>\n",
       "</div>"
      ],
      "text/plain": [
       "            review_id\n",
       "ASIN                 \n",
       "B07MKSGZM6        100\n",
       "B07SC7BZHR          6"
      ]
     },
     "metadata": {},
     "output_type": "display_data"
    },
    {
     "ename": "KeyboardInterrupt",
     "evalue": "",
     "output_type": "error",
     "traceback": [
      "\u001b[0;31m---------------------------------------------------------------------------\u001b[0m",
      "\u001b[0;31mKeyboardInterrupt\u001b[0m                         Traceback (most recent call last)",
      "\u001b[0;32m<ipython-input-17-54bd302be1db>\u001b[0m in \u001b[0;36m<module>\u001b[0;34m\u001b[0m\n\u001b[1;32m     16\u001b[0m         \u001b[0mdisplay\u001b[0m\u001b[0;34m(\u001b[0m\u001b[0mdf\u001b[0m\u001b[0;34m.\u001b[0m\u001b[0mgroupby\u001b[0m\u001b[0;34m(\u001b[0m\u001b[0;34m'ASIN'\u001b[0m\u001b[0;34m)\u001b[0m\u001b[0;34m.\u001b[0m\u001b[0magg\u001b[0m\u001b[0;34m(\u001b[0m\u001b[0;34m{\u001b[0m\u001b[0;34m'review_id'\u001b[0m\u001b[0;34m:\u001b[0m \u001b[0;34m'count'\u001b[0m\u001b[0;34m}\u001b[0m\u001b[0;34m)\u001b[0m\u001b[0;34m)\u001b[0m\u001b[0;34m\u001b[0m\u001b[0;34m\u001b[0m\u001b[0m\n\u001b[1;32m     17\u001b[0m \u001b[0;34m\u001b[0m\u001b[0m\n\u001b[0;32m---> 18\u001b[0;31m         \u001b[0mtime\u001b[0m\u001b[0;34m.\u001b[0m\u001b[0msleep\u001b[0m\u001b[0;34m(\u001b[0m\u001b[0mrand_time\u001b[0m\u001b[0;34m)\u001b[0m\u001b[0;34m\u001b[0m\u001b[0;34m\u001b[0m\u001b[0m\n\u001b[0m\u001b[1;32m     19\u001b[0m         \u001b[0;32mif\u001b[0m \u001b[0mlen\u001b[0m\u001b[0;34m(\u001b[0m\u001b[0m_\u001b[0m\u001b[0;34m)\u001b[0m \u001b[0;34m==\u001b[0m \u001b[0;36m0\u001b[0m\u001b[0;34m:\u001b[0m\u001b[0;34m\u001b[0m\u001b[0;34m\u001b[0m\u001b[0m\n\u001b[1;32m     20\u001b[0m             \u001b[0;32mbreak\u001b[0m\u001b[0;34m\u001b[0m\u001b[0;34m\u001b[0m\u001b[0m\n",
      "\u001b[0;31mKeyboardInterrupt\u001b[0m: "
     ]
    }
   ],
   "source": [
    "for ASIN in to_scrape:\n",
    "    for i in count():\n",
    "        clear_output()\n",
    "        if i == 0:\n",
    "            continue\n",
    "        _ = review_scrape(ASIN, i)\n",
    "        \n",
    "        rand_time = random.randint(1,5) + random.random()\n",
    "        \n",
    "#         print(requests.get('https://api.myip.com', proxies=proxyDict).text)\n",
    "        print('---CURRENT---')\n",
    "        print(ASIN)\n",
    "        print('page:', i,'\\nrand:', rand_time)\n",
    "        print('---SCRAPED---')\n",
    "        print(f'{db.project.reviews.count()}')\n",
    "        display(df.groupby('ASIN').agg({'review_id': 'count'}))\n",
    "        \n",
    "        time.sleep(rand_time)\n",
    "        if len(_) == 0:\n",
    "            break\n",
    "        \n",
    "        try:\n",
    "            db.project.reviews.insert_many(_.to_dict('record'), ordered=False)\n",
    "        except:\n",
    "            pass\n",
    "        \n",
    "        df = pd.concat([df, _])\n",
    "#         display(df.groupby('ASIN').agg({'review_id': 'count'}))\n",
    "        \n",
    "#         with open('df.pickle','wb') as file:\n",
    "#             pickle.dump(df, file)"
   ]
  },
  {
   "cell_type": "markdown",
   "metadata": {},
   "source": [
    "### To scrape questions"
   ]
  },
  {
   "cell_type": "code",
   "execution_count": 4,
   "metadata": {
    "scrolled": true
   },
   "outputs": [],
   "source": [
    "def question_scrape(ASIN, pg_num):\n",
    "    # def question_scraper(ASIN, pg_num):\n",
    "        # Scrape Reviews\n",
    "    url = f'https://www.amazon.com/ask/questions/asin/{ASIN}/{pg_num}/ref=ask_ql_psf_ql_hza?sort=SUBMIT_DATE'\n",
    "\n",
    "    soup = BeautifulSoup(request(url).text)\n",
    "\n",
    "    # Stripping review_id, title and content\n",
    "\n",
    "    links = set()\n",
    "\n",
    "    for i in soup.findAll(True, class_ =\"a-section askTeaserQuestions\")[0].find_all(attrs={'a-link-normal'}):\n",
    "        if i['href'] != 'javascript:void(0)':\n",
    "            links.add('https://amazon.com'+i['href'])\n",
    "    \n",
    "    links = list(links)\n",
    "    links = [i for i in links if len(i) > 30]\n",
    "    links = list(filter(lambda i: i.split('/')[3] == 'ask', links))\n",
    "    \n",
    "    question_id = [ i.split('/')[5] for i in links ]\n",
    "    \n",
    "    question_dates = []\n",
    "    titles = []\n",
    "    question_ASIN = []\n",
    "\n",
    "    for link in links:\n",
    "        soup = BeautifulSoup(request(link).text)\n",
    "        question_dates.append(soup.find(True, {'class': 'a-column a-span6 a-text-left'}).get_text().strip('asked on '))\n",
    "        titles.append(soup.find(True, class_ ='a-size-large askAnswersAndComments askWrapText').span.get_text())\n",
    "        question_ASIN.append(soup.find(True, class_= 'a-size-base a-link-normal')['href'].split('/')[3])\n",
    "\n",
    "    return [{\n",
    "        'question_id': a,\n",
    "        'question_ASIN': b,\n",
    "        'question date': c,\n",
    "        'title': d\n",
    "     } for (a, b, c, d) in list(zip(question_id, question_ASIN, question_dates, titles))]"
   ]
  },
  {
   "cell_type": "code",
   "execution_count": 5,
   "metadata": {
    "scrolled": true
   },
   "outputs": [
    {
     "data": {
      "text/plain": [
       "[{'question_id': 'TxBQZCRJECCEHQ',\n",
       "  'question_ASIN': 'B074RNRM2B',\n",
       "  'question date': 'February 25, 2019',\n",
       "  'title': 'Do you think that this would work on the Galaxy S10+?'},\n",
       " {'question_id': 'Tx2RVDFJ3AEVGCA',\n",
       "  'question_ASIN': 'B073JYVKNX',\n",
       "  'question date': 'February 23, 2019',\n",
       "  'title': 'tomameri - mp3 / mp4 player compatible?'},\n",
       " {'question_id': 'Tx2JPRQH3REEMN4',\n",
       "  'question_ASIN': 'B073JYVKNX',\n",
       "  'question date': 'February 25, 2019',\n",
       "  'title': 'does this work in LG Realm cell phones?'},\n",
       " {'question_id': 'TxIS2OGQD0GS91',\n",
       "  'question_ASIN': 'B073JYVKNX',\n",
       "  'question date': 'February 24, 2019',\n",
       "  'title': 'Will this work with my phone? my phone is a zte blade x'},\n",
       " {'question_id': 'TxWAVTKDQ1WKFY',\n",
       "  'question_ASIN': 'B0758NHWS8',\n",
       "  'question date': 'February 24, 2019',\n",
       "  'title': 'Does this work with huawei mate 9? looking to buy the 400gb capacity. '},\n",
       " {'question_id': 'TxFPS2IP8J1N1T',\n",
       "  'question_ASIN': 'B0758NHWS8',\n",
       "  'question date': 'February 24, 2019',\n",
       "  'title': \"Will Sandisk cover usage in a dash cam with the 256gb card?  I'm not seeing any exclusion for it in the warranty info posted here.\"},\n",
       " {'question_id': 'Tx3M20HQPY2OPF4',\n",
       "  'question_ASIN': 'B073JYVKNX',\n",
       "  'question date': 'February 24, 2019',\n",
       "  'title': 'is this the fastest card for G6 Play?'},\n",
       " {'question_id': 'TxUCPHOQU0NLWQ',\n",
       "  'question_ASIN': 'B074RNRM2B',\n",
       "  'question date': 'February 25, 2019',\n",
       "  'title': 'Do you think that this would work on the Galaxy S10+?'},\n",
       " {'question_id': 'Tx1V75O7S3H5VCF',\n",
       "  'question_ASIN': 'B0758NHWS8',\n",
       "  'question date': 'February 25, 2019',\n",
       "  'title': 'How fast, say can this download music from youtube music android app, to the microsd card?'},\n",
       " {'question_id': 'TxWULYFMQ9TBEK',\n",
       "  'question_ASIN': 'B073JYC4XM',\n",
       "  'question date': 'February 22, 2019',\n",
       "  'title': 'Novice user-sim card  for auto dashcam, what card would be best for the money?'}]"
      ]
     },
     "execution_count": 5,
     "metadata": {},
     "output_type": "execute_result"
    }
   ],
   "source": [
    "question_scrape('B073JYC4XM', 60)"
   ]
  },
  {
   "cell_type": "code",
   "execution_count": 18,
   "metadata": {},
   "outputs": [
    {
     "data": {
      "text/plain": [
       "['B06XWN9Q99',\n",
       " 'B06XWZWYVP',\n",
       " 'B06XX29S9Q',\n",
       " 'B072HRDM55',\n",
       " 'B073JWXGNT',\n",
       " 'B073JY5T7T',\n",
       " 'B073JYC4XM',\n",
       " 'B073JYVKNX',\n",
       " 'B073K14CVB',\n",
       " 'B074RNRM2B',\n",
       " 'B0758NHWS8',\n",
       " 'B07MKSGZM6',\n",
       " 'B07SC7BZHR']"
      ]
     },
     "execution_count": 18,
     "metadata": {},
     "output_type": "execute_result"
    }
   ],
   "source": [
    "db.project.targets.distinct('ASIN')"
   ]
  },
  {
   "cell_type": "code",
   "execution_count": null,
   "metadata": {},
   "outputs": [],
   "source": [
    "for ASIN in db.project.targets.distinct('ASIN'):\n",
    "    for i in count():\n",
    "        if i == 101:\n",
    "            break\n",
    "            \n",
    "        clear_output()\n",
    "        \n",
    "        if i == 0:\n",
    "            continue\n",
    "            \n",
    "        _ = question_scrape(ASIN, i)\n",
    "        \n",
    "        rand_time = random.randint(1,5) + random.random()\n",
    "        \n",
    "        print('---CURRENT---')\n",
    "        print(ASIN)\n",
    "        print('page:', i,'\\nrand:', rand_time)\n",
    "        print('---SCRAPED---')\n",
    "        print(f'{db.project.questions.count()}')\n",
    "        \n",
    "        time.sleep(rand_time)\n",
    "        if len(_) == 0:\n",
    "            break\n",
    "        \n",
    "        try:\n",
    "            db.project.questions.insert_many(_, ordered=False)\n",
    "        except:\n",
    "            pass\n",
    "        \n"
   ]
  },
  {
   "cell_type": "code",
   "execution_count": null,
   "metadata": {},
   "outputs": [],
   "source": []
  },
  {
   "cell_type": "code",
   "execution_count": null,
   "metadata": {},
   "outputs": [],
   "source": []
  },
  {
   "cell_type": "markdown",
   "metadata": {},
   "source": [
    "# temp"
   ]
  },
  {
   "cell_type": "code",
   "execution_count": null,
   "metadata": {},
   "outputs": [],
   "source": [
    "col = []\n",
    "\n",
    "url = 'https://www.amazon.com/Samsung-MicroSDXC-Adapter-MB-ME128GA-AM/dp/B06XWZWYVP/ref=sr_1_5?keywords=sandisk%2Bmicro%2Bsd&qid=1565739330&s=gateway&sr=8-5&th=1'\n",
    "\n",
    "soup = BeautifulSoup(request(url).text)\n",
    "\n",
    "_ = []\n",
    "\n",
    "for i in soup.find_all(attrs={'a-unordered-list a-nostyle a-button-list a-declarative a-button-toggle-group a-horizontal a-spacing-top-micro swatches swatchesSquare'}):\n",
    "    for x in i.find_all('li'):\n",
    "        _.append(\n",
    "            [x['data-defaultasin'], x.find(attrs={'a-size-base'}).get_text(), 'Samsung']\n",
    "        )\n",
    "        \n",
    "col = _[0:5]\n",
    "\n",
    "url = 'https://www.amazon.com/Sandisk-Ultra-Micro-UHS-I-Adapter/dp/B073K14CVB/ref=sxin_4_sxwds-bovbs?keywords=sandisk+micro+sd&pd_rd_i=B073K14CVB&pd_rd_r=1892a852-fc86-4c96-8c4f-c2d75ecb6b6e&pd_rd_w=9an3s&pd_rd_wg=GirQt&pf_rd_p=b866bc3b-cfe5-45c1-897c-a8525a3335d9&pf_rd_r=42K1ZJJN26BSQQ72YKCE&qid=1565741086&s=gateway'\n",
    "\n",
    "soup = BeautifulSoup(request(url).text)\n",
    "\n",
    "for i in soup.find_all(attrs={'a-unordered-list a-nostyle a-button-list a-declarative a-button-toggle-group a-horizontal a-spacing-top-micro swatches swatchesSquare'}):\n",
    "    for x in i.find_all('li'):\n",
    "        col.append([x['data-defaultasin'], x.find(attrs={'a-size-base'}).get_text(), 'SanDisk'])"
   ]
  },
  {
   "cell_type": "code",
   "execution_count": null,
   "metadata": {},
   "outputs": [],
   "source": [
    "col"
   ]
  },
  {
   "cell_type": "code",
   "execution_count": null,
   "metadata": {},
   "outputs": [],
   "source": [
    "test = pd.DataFrame(data=(col), columns=['ASIN', 'cap', 'brand'])\n",
    "test"
   ]
  },
  {
   "cell_type": "code",
   "execution_count": null,
   "metadata": {},
   "outputs": [],
   "source": [
    "from pymongo import MongoClient"
   ]
  },
  {
   "cell_type": "code",
   "execution_count": null,
   "metadata": {},
   "outputs": [],
   "source": [
    "db = MongoClient(\"mongodb://@52.53.234.224\", 27017)"
   ]
  },
  {
   "cell_type": "code",
   "execution_count": null,
   "metadata": {
    "scrolled": true
   },
   "outputs": [],
   "source": [
    "try:\n",
    "    db.project.targets.insert_many(test.to_dict('record'), ordered=False)\n",
    "except:\n",
    "    pass\n",
    "\n",
    "test"
   ]
  },
  {
   "cell_type": "code",
   "execution_count": null,
   "metadata": {
    "scrolled": true
   },
   "outputs": [],
   "source": [
    "list(db.project.targets.find())"
   ]
  },
  {
   "cell_type": "code",
   "execution_count": null,
   "metadata": {},
   "outputs": [],
   "source": []
  }
 ],
 "metadata": {
  "kernelspec": {
   "display_name": "Python 3",
   "language": "python",
   "name": "python3"
  },
  "language_info": {
   "codemirror_mode": {
    "name": "ipython",
    "version": 3
   },
   "file_extension": ".py",
   "mimetype": "text/x-python",
   "name": "python",
   "nbconvert_exporter": "python",
   "pygments_lexer": "ipython3",
   "version": "3.7.3"
  }
 },
 "nbformat": 4,
 "nbformat_minor": 2
}
